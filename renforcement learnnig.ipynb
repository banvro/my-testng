{
 "cells": [
  {
   "cell_type": "code",
   "execution_count": 2,
   "id": "69577393",
   "metadata": {},
   "outputs": [],
   "source": [
    "import numpy as np\n",
    "\n",
    "# Define the environment (3x3 grid world)\n",
    "num_states = 9  # 3x3 grid\n",
    "num_actions = 4  # Up, down, left, right\n",
    "goal_state = 8  # Bottom-right corner\n",
    "R = np.array([\n",
    "    [-1, -1, -1, -1, 0, -1, -1, -1, -1],\n",
    "    [-1, -1, -1,  0, -1,  0, -1,  0, -1],\n",
    "    [-1, -1, -1, -1, -1, -1,  0, -1,  0],\n",
    "    [-1,  0, -1, -1, -1, -1, -1, -1, -1],\n",
    "    [ 0, -1, -1, -1, -1, -1,  0, -1,  0],\n",
    "    [-1,  0, -1, -1, -1, -1, -1, -1, -1],\n",
    "    [-1, -1,  0, -1,  0, -1, -1, -1, -1],\n",
    "    [-1,  0, -1, -1, -1, -1, -1, -1, -1],\n",
    "    [ 0, -1,  0, -1,  0, -1, -1, -1,  1]  # Goal state\n",
    "])\n",
    "\n",
    "# Initialize Q-values with zeros\n",
    "Q = np.zeros((num_states, num_actions))"
   ]
  },
  {
   "cell_type": "code",
   "execution_count": 3,
   "id": "bfd2a211",
   "metadata": {},
   "outputs": [
    {
     "data": {
      "text/plain": [
       "array([[0., 0., 0., 0.],\n",
       "       [0., 0., 0., 0.],\n",
       "       [0., 0., 0., 0.],\n",
       "       [0., 0., 0., 0.],\n",
       "       [0., 0., 0., 0.],\n",
       "       [0., 0., 0., 0.],\n",
       "       [0., 0., 0., 0.],\n",
       "       [0., 0., 0., 0.],\n",
       "       [0., 0., 0., 0.]])"
      ]
     },
     "execution_count": 3,
     "metadata": {},
     "output_type": "execute_result"
    }
   ],
   "source": [
    "Q"
   ]
  },
  {
   "cell_type": "code",
   "execution_count": 5,
   "id": "60f84903",
   "metadata": {},
   "outputs": [],
   "source": [
    "# Q-learning hyperparameters\n",
    "learning_rate = 0.8\n",
    "discount_factor = 0.95\n",
    "num_episodes = 1000     "
   ]
  },
  {
   "cell_type": "code",
   "execution_count": null,
   "id": "d07ae166",
   "metadata": {},
   "outputs": [],
   "source": [
    "for episode in range(num_episodes):\n",
    "    state = np.random.randint(0, num_states)\n",
    "    \n",
    "    while state != goal_state:\n",
    "        valid_actions = np.where(R[state, :] >= 0)[0]\n",
    "        action = np.random.choice(valid_actions)\n",
    "        \n",
    "        next_state = action\n",
    "        max_next_q = np.max(Q[next_state, :])\n",
    "        \n",
    "        Q[state, action] = Q[state, action] + learning_rate * (R[state, action] + discount_factor * max_next_q - Q[state, action])\n",
    "        \n",
    "        state = next_state\n",
    "\n",
    "# Print the learned Q-values\n",
    "print(\"Learned Q-values:\\n\", Q)\n",
    "In this simple example, the Q-lear"
   ]
  }
 ],
 "metadata": {
  "kernelspec": {
   "display_name": "Python 3 (ipykernel)",
   "language": "python",
   "name": "python3"
  },
  "language_info": {
   "codemirror_mode": {
    "name": "ipython",
    "version": 3
   },
   "file_extension": ".py",
   "mimetype": "text/x-python",
   "name": "python",
   "nbconvert_exporter": "python",
   "pygments_lexer": "ipython3",
   "version": "3.10.12"
  }
 },
 "nbformat": 4,
 "nbformat_minor": 5
}
