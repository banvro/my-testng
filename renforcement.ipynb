{
 "cells": [
  {
   "cell_type": "code",
   "execution_count": 3,
   "id": "e67c5558",
   "metadata": {},
   "outputs": [
    {
     "ename": "IndexError",
     "evalue": "index 4 is out of bounds for axis 1 with size 4",
     "output_type": "error",
     "traceback": [
      "\u001b[0;31m---------------------------------------------------------------------------\u001b[0m",
      "\u001b[0;31mIndexError\u001b[0m                                Traceback (most recent call last)",
      "Cell \u001b[0;32mIn[3], line 37\u001b[0m\n\u001b[1;32m     33\u001b[0m         next_state \u001b[38;5;241m=\u001b[39m action\n\u001b[1;32m     35\u001b[0m         max_next_q \u001b[38;5;241m=\u001b[39m np\u001b[38;5;241m.\u001b[39mmax(Q[next_state, :])\n\u001b[0;32m---> 37\u001b[0m         Q[state, action] \u001b[38;5;241m=\u001b[39m \u001b[43mQ\u001b[49m\u001b[43m[\u001b[49m\u001b[43mstate\u001b[49m\u001b[43m,\u001b[49m\u001b[43m \u001b[49m\u001b[43maction\u001b[49m\u001b[43m]\u001b[49m \u001b[38;5;241m+\u001b[39m learning_rate \u001b[38;5;241m*\u001b[39m (R[state, action] \u001b[38;5;241m+\u001b[39m gamma \u001b[38;5;241m*\u001b[39m max_next_q \u001b[38;5;241m-\u001b[39m Q[state, action])\n\u001b[1;32m     39\u001b[0m         state \u001b[38;5;241m=\u001b[39m next_state\n\u001b[1;32m     41\u001b[0m \u001b[38;5;66;03m# Print the learned Q-values\u001b[39;00m\n",
      "\u001b[0;31mIndexError\u001b[0m: index 4 is out of bounds for axis 1 with size 4"
     ]
    }
   ],
   "source": [
    "import numpy as np\n",
    "\n",
    "# Define the environment parameters\n",
    "num_states = 6\n",
    "num_actions = 4\n",
    "gamma = 0.8  # Discount factor\n",
    "\n",
    "# Define the reward matrix\n",
    "R = np.array([\n",
    "    [-1, -1, -1, -1, 0, -1],\n",
    "    [-1, -1, -1, 0, -1, 100],\n",
    "    [-1, -1, -1, 0, -1, -1],\n",
    "    [-1, 0, 0, -1, 0, -1],\n",
    "    [0, -1, -1, 0, -1, 100],\n",
    "    [-1, 0, -1, -1, 0, 100]\n",
    "])\n",
    "\n",
    "# Initialize the Q-values matrix\n",
    "Q = np.zeros((num_states, num_actions))\n",
    "\n",
    "# Define hyperparameters\n",
    "learning_rate = 0.8\n",
    "num_episodes = 1000\n",
    "\n",
    "# Q-learning algorithm\n",
    "for episode in range(num_episodes):\n",
    "    state = np.random.randint(0, num_states)\n",
    "    \n",
    "    while state != 5:  # Continue until reaching the goal state\n",
    "        valid_actions = np.where(R[state, :] >= 0)[0]\n",
    "        action = np.random.choice(valid_actions)\n",
    "        \n",
    "        next_state = action\n",
    "        \n",
    "        max_next_q = np.max(Q[next_state, :])\n",
    "        \n",
    "        Q[state, action] = Q[state, action] + learning_rate * (R[state, action] + gamma * max_next_q - Q[state, action])\n",
    "        \n",
    "        state = next_state\n",
    "\n",
    "# Print the learned Q-values\n",
    "print(\"Learned Q-values:\\n\", Q)\n"
   ]
  },
  {
   "cell_type": "code",
   "execution_count": null,
   "id": "1ab40275",
   "metadata": {},
   "outputs": [],
   "source": []
  }
 ],
 "metadata": {
  "kernelspec": {
   "display_name": "Python 3 (ipykernel)",
   "language": "python",
   "name": "python3"
  },
  "language_info": {
   "codemirror_mode": {
    "name": "ipython",
    "version": 3
   },
   "file_extension": ".py",
   "mimetype": "text/x-python",
   "name": "python",
   "nbconvert_exporter": "python",
   "pygments_lexer": "ipython3",
   "version": "3.10.12"
  }
 },
 "nbformat": 4,
 "nbformat_minor": 5
}
