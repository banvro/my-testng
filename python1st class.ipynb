{
 "cells": [
  {
   "cell_type": "code",
   "execution_count": null,
   "id": "3cd9c327",
   "metadata": {},
   "outputs": [],
   "source": [
    "python defination :  \n",
    "    1) Simple\n",
    "    2) Gernal perpose\n",
    "    3) Object Oriented\n",
    "    4) High Level\n",
    "    5) Interpreted\n",
    "    6) dynamiclly typed\n",
    "    7) Case senstive \n",
    "    8) or scripted    language...."
   ]
  },
  {
   "cell_type": "code",
   "execution_count": null,
   "id": "994a3221",
   "metadata": {},
   "outputs": [],
   "source": [
    "# 1) web devlopment   => Django, Flask\n",
    "# 2) Mobile app backend ==> DRF ( Django rest framework)   API\n",
    "# 3) AI  => "
   ]
  },
  {
   "cell_type": "code",
   "execution_count": 5,
   "id": "be60e152",
   "metadata": {},
   "outputs": [],
   "source": [
    "# OOPs : \n",
    "#     1) Inharitance\n",
    "#     2) POlymorpsisum\n",
    "#     3) Abstraction\n",
    "#     4) Encapsulation"
   ]
  },
  {
   "cell_type": "code",
   "execution_count": 6,
   "id": "cdac315b",
   "metadata": {},
   "outputs": [],
   "source": [
    "# languages:\n",
    "#     1) High Lavel language\n",
    "#                 that can understandable by humans\n",
    "\n",
    "#     2) Low level language:\n",
    "#             01  (machine language..)\n",
    "\n"
   ]
  },
  {
   "cell_type": "code",
   "execution_count": 7,
   "id": "ab735359",
   "metadata": {},
   "outputs": [],
   "source": [
    "# compiler or interpreter\n",
    "\n"
   ]
  },
  {
   "cell_type": "code",
   "execution_count": 10,
   "id": "5f25ddc8",
   "metadata": {},
   "outputs": [
    {
     "name": "stdout",
     "output_type": "stream",
     "text": [
      "<class 'str'>\n"
     ]
    }
   ],
   "source": [
    "# int main(){\n",
    "#     int a, b;\n",
    "    \n",
    "#     a = 10;\n",
    "#     b = 20\n",
    "    \n",
    "#     int c = a  b\n",
    "#  }\n",
    "\n",
    "\n",
    "# dyanmic\n",
    "\n",
    "a = \"ksjdfk\"\n",
    "\n",
    "print(type(a))"
   ]
  },
  {
   "cell_type": "code",
   "execution_count": null,
   "id": "2c27bfe7",
   "metadata": {},
   "outputs": [],
   "source": [
    "a = 10\n",
    "\n",
    "A = 20"
   ]
  }
 ],
 "metadata": {
  "kernelspec": {
   "display_name": "Python 3 (ipykernel)",
   "language": "python",
   "name": "python3"
  },
  "language_info": {
   "codemirror_mode": {
    "name": "ipython",
    "version": 3
   },
   "file_extension": ".py",
   "mimetype": "text/x-python",
   "name": "python",
   "nbconvert_exporter": "python",
   "pygments_lexer": "ipython3",
   "version": "3.10.12"
  }
 },
 "nbformat": 4,
 "nbformat_minor": 5
}
